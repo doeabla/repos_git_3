{
 "cells": [
  {
   "cell_type": "code",
   "execution_count": 27,
   "metadata": {},
   "outputs": [
    {
     "name": "stderr",
     "output_type": "stream",
     "text": [
      "C:\\Users\\DOE EDINAM ABLA\\AppData\\Local\\Temp\\ipykernel_972\\3613826440.py:10: DeprecationWarning: Please use `shift` from the `scipy.ndimage` namespace, the `scipy.ndimage.interpolation` namespace is deprecated.\n",
      "  from scipy.ndimage.interpolation import shift\n"
     ]
    }
   ],
   "source": [
    "import numpy as np\n",
    "import pandas as pd\n",
    "\n",
    "from sklearn.datasets import fetch_openml\n",
    "from sklearn.datasets import load_digits\n",
    "\n",
    "import matplotlib as mpl\n",
    "import matplotlib.pyplot as plt\n",
    "\n",
    "from scipy.ndimage.interpolation import shift"
   ]
  },
  {
   "cell_type": "code",
   "execution_count": 28,
   "metadata": {},
   "outputs": [
    {
     "data": {
      "text/plain": [
       "sklearn.utils._bunch.Bunch"
      ]
     },
     "execution_count": 28,
     "metadata": {},
     "output_type": "execute_result"
    }
   ],
   "source": [
    "mnist = mnist = fetch_openml('mnist_784', version=1)\n",
    "type(mnist)"
   ]
  },
  {
   "cell_type": "code",
   "execution_count": 29,
   "metadata": {},
   "outputs": [
    {
     "data": {
      "text/plain": [
       "dict_keys(['data', 'target', 'frame', 'categories', 'feature_names', 'target_names', 'DESCR', 'details', 'url'])"
      ]
     },
     "execution_count": 29,
     "metadata": {},
     "output_type": "execute_result"
    }
   ],
   "source": [
    "mnist.keys()"
   ]
  },
  {
   "cell_type": "code",
   "execution_count": 30,
   "metadata": {},
   "outputs": [
    {
     "data": {
      "text/plain": [
       "(pandas.core.frame.DataFrame, pandas.core.series.Series)"
      ]
     },
     "execution_count": 30,
     "metadata": {},
     "output_type": "execute_result"
    }
   ],
   "source": [
    "X, y = mnist[\"data\"], mnist[\"target\"]\n",
    "\n",
    "type(X), type(y)"
   ]
  },
  {
   "cell_type": "code",
   "execution_count": 31,
   "metadata": {},
   "outputs": [
    {
     "data": {
      "text/plain": [
       "((70000, 784), (70000,))"
      ]
     },
     "execution_count": 31,
     "metadata": {},
     "output_type": "execute_result"
    }
   ],
   "source": [
    "X.shape, y.shape"
   ]
  },
  {
   "cell_type": "code",
   "execution_count": 32,
   "metadata": {},
   "outputs": [
    {
     "data": {
      "text/html": [
       "<div>\n",
       "<style scoped>\n",
       "    .dataframe tbody tr th:only-of-type {\n",
       "        vertical-align: middle;\n",
       "    }\n",
       "\n",
       "    .dataframe tbody tr th {\n",
       "        vertical-align: top;\n",
       "    }\n",
       "\n",
       "    .dataframe thead th {\n",
       "        text-align: right;\n",
       "    }\n",
       "</style>\n",
       "<table border=\"1\" class=\"dataframe\">\n",
       "  <thead>\n",
       "    <tr style=\"text-align: right;\">\n",
       "      <th></th>\n",
       "      <th>pixel1</th>\n",
       "      <th>pixel2</th>\n",
       "      <th>pixel3</th>\n",
       "      <th>pixel4</th>\n",
       "      <th>pixel5</th>\n",
       "      <th>pixel6</th>\n",
       "      <th>pixel7</th>\n",
       "      <th>pixel8</th>\n",
       "      <th>pixel9</th>\n",
       "      <th>pixel10</th>\n",
       "      <th>...</th>\n",
       "      <th>pixel775</th>\n",
       "      <th>pixel776</th>\n",
       "      <th>pixel777</th>\n",
       "      <th>pixel778</th>\n",
       "      <th>pixel779</th>\n",
       "      <th>pixel780</th>\n",
       "      <th>pixel781</th>\n",
       "      <th>pixel782</th>\n",
       "      <th>pixel783</th>\n",
       "      <th>pixel784</th>\n",
       "    </tr>\n",
       "  </thead>\n",
       "  <tbody>\n",
       "    <tr>\n",
       "      <th>0</th>\n",
       "      <td>0.0</td>\n",
       "      <td>0.0</td>\n",
       "      <td>0.0</td>\n",
       "      <td>0.0</td>\n",
       "      <td>0.0</td>\n",
       "      <td>0.0</td>\n",
       "      <td>0.0</td>\n",
       "      <td>0.0</td>\n",
       "      <td>0.0</td>\n",
       "      <td>0.0</td>\n",
       "      <td>...</td>\n",
       "      <td>0.0</td>\n",
       "      <td>0.0</td>\n",
       "      <td>0.0</td>\n",
       "      <td>0.0</td>\n",
       "      <td>0.0</td>\n",
       "      <td>0.0</td>\n",
       "      <td>0.0</td>\n",
       "      <td>0.0</td>\n",
       "      <td>0.0</td>\n",
       "      <td>0.0</td>\n",
       "    </tr>\n",
       "    <tr>\n",
       "      <th>1</th>\n",
       "      <td>0.0</td>\n",
       "      <td>0.0</td>\n",
       "      <td>0.0</td>\n",
       "      <td>0.0</td>\n",
       "      <td>0.0</td>\n",
       "      <td>0.0</td>\n",
       "      <td>0.0</td>\n",
       "      <td>0.0</td>\n",
       "      <td>0.0</td>\n",
       "      <td>0.0</td>\n",
       "      <td>...</td>\n",
       "      <td>0.0</td>\n",
       "      <td>0.0</td>\n",
       "      <td>0.0</td>\n",
       "      <td>0.0</td>\n",
       "      <td>0.0</td>\n",
       "      <td>0.0</td>\n",
       "      <td>0.0</td>\n",
       "      <td>0.0</td>\n",
       "      <td>0.0</td>\n",
       "      <td>0.0</td>\n",
       "    </tr>\n",
       "    <tr>\n",
       "      <th>2</th>\n",
       "      <td>0.0</td>\n",
       "      <td>0.0</td>\n",
       "      <td>0.0</td>\n",
       "      <td>0.0</td>\n",
       "      <td>0.0</td>\n",
       "      <td>0.0</td>\n",
       "      <td>0.0</td>\n",
       "      <td>0.0</td>\n",
       "      <td>0.0</td>\n",
       "      <td>0.0</td>\n",
       "      <td>...</td>\n",
       "      <td>0.0</td>\n",
       "      <td>0.0</td>\n",
       "      <td>0.0</td>\n",
       "      <td>0.0</td>\n",
       "      <td>0.0</td>\n",
       "      <td>0.0</td>\n",
       "      <td>0.0</td>\n",
       "      <td>0.0</td>\n",
       "      <td>0.0</td>\n",
       "      <td>0.0</td>\n",
       "    </tr>\n",
       "    <tr>\n",
       "      <th>3</th>\n",
       "      <td>0.0</td>\n",
       "      <td>0.0</td>\n",
       "      <td>0.0</td>\n",
       "      <td>0.0</td>\n",
       "      <td>0.0</td>\n",
       "      <td>0.0</td>\n",
       "      <td>0.0</td>\n",
       "      <td>0.0</td>\n",
       "      <td>0.0</td>\n",
       "      <td>0.0</td>\n",
       "      <td>...</td>\n",
       "      <td>0.0</td>\n",
       "      <td>0.0</td>\n",
       "      <td>0.0</td>\n",
       "      <td>0.0</td>\n",
       "      <td>0.0</td>\n",
       "      <td>0.0</td>\n",
       "      <td>0.0</td>\n",
       "      <td>0.0</td>\n",
       "      <td>0.0</td>\n",
       "      <td>0.0</td>\n",
       "    </tr>\n",
       "    <tr>\n",
       "      <th>4</th>\n",
       "      <td>0.0</td>\n",
       "      <td>0.0</td>\n",
       "      <td>0.0</td>\n",
       "      <td>0.0</td>\n",
       "      <td>0.0</td>\n",
       "      <td>0.0</td>\n",
       "      <td>0.0</td>\n",
       "      <td>0.0</td>\n",
       "      <td>0.0</td>\n",
       "      <td>0.0</td>\n",
       "      <td>...</td>\n",
       "      <td>0.0</td>\n",
       "      <td>0.0</td>\n",
       "      <td>0.0</td>\n",
       "      <td>0.0</td>\n",
       "      <td>0.0</td>\n",
       "      <td>0.0</td>\n",
       "      <td>0.0</td>\n",
       "      <td>0.0</td>\n",
       "      <td>0.0</td>\n",
       "      <td>0.0</td>\n",
       "    </tr>\n",
       "  </tbody>\n",
       "</table>\n",
       "<p>5 rows × 784 columns</p>\n",
       "</div>"
      ],
      "text/plain": [
       "   pixel1  pixel2  pixel3  pixel4  pixel5  pixel6  pixel7  pixel8  pixel9  \\\n",
       "0     0.0     0.0     0.0     0.0     0.0     0.0     0.0     0.0     0.0   \n",
       "1     0.0     0.0     0.0     0.0     0.0     0.0     0.0     0.0     0.0   \n",
       "2     0.0     0.0     0.0     0.0     0.0     0.0     0.0     0.0     0.0   \n",
       "3     0.0     0.0     0.0     0.0     0.0     0.0     0.0     0.0     0.0   \n",
       "4     0.0     0.0     0.0     0.0     0.0     0.0     0.0     0.0     0.0   \n",
       "\n",
       "   pixel10  ...  pixel775  pixel776  pixel777  pixel778  pixel779  pixel780  \\\n",
       "0      0.0  ...       0.0       0.0       0.0       0.0       0.0       0.0   \n",
       "1      0.0  ...       0.0       0.0       0.0       0.0       0.0       0.0   \n",
       "2      0.0  ...       0.0       0.0       0.0       0.0       0.0       0.0   \n",
       "3      0.0  ...       0.0       0.0       0.0       0.0       0.0       0.0   \n",
       "4      0.0  ...       0.0       0.0       0.0       0.0       0.0       0.0   \n",
       "\n",
       "   pixel781  pixel782  pixel783  pixel784  \n",
       "0       0.0       0.0       0.0       0.0  \n",
       "1       0.0       0.0       0.0       0.0  \n",
       "2       0.0       0.0       0.0       0.0  \n",
       "3       0.0       0.0       0.0       0.0  \n",
       "4       0.0       0.0       0.0       0.0  \n",
       "\n",
       "[5 rows x 784 columns]"
      ]
     },
     "execution_count": 32,
     "metadata": {},
     "output_type": "execute_result"
    }
   ],
   "source": [
    "X.head()"
   ]
  },
  {
   "cell_type": "code",
   "execution_count": 33,
   "metadata": {},
   "outputs": [
    {
     "data": {
      "text/plain": [
       "0    5\n",
       "1    0\n",
       "2    4\n",
       "3    1\n",
       "4    9\n",
       "Name: class, dtype: category\n",
       "Categories (10, object): ['0', '1', '2', '3', ..., '6', '7', '8', '9']"
      ]
     },
     "execution_count": 33,
     "metadata": {},
     "output_type": "execute_result"
    }
   ],
   "source": [
    "y.head()"
   ]
  },
  {
   "cell_type": "code",
   "execution_count": 34,
   "metadata": {},
   "outputs": [
    {
     "data": {
      "image/png": "[encoded data removed]",
      "text/plain": [
       "<Figure size 432x288 with 1 Axes>"
      ]
     },
     "metadata": {
      "needs_background": "light"
     },
     "output_type": "display_data"
    }
   ],
   "source": [
    "some_digit = X.iloc[5,:].values\n",
    "some_digit_image = some_digit.reshape(28, 28)\n",
    "\n",
    "plt.imshow(some_digit_image, cmap = mpl.cm.binary, interpolation=\"nearest\")\n",
    "plt.axis(\"off\")\n",
    "plt.show()"
   ]
  },
  {
   "cell_type": "code",
   "execution_count": 35,
   "metadata": {},
   "outputs": [
    {
     "data": {
      "text/plain": [
       "'2'"
      ]
     },
     "execution_count": 35,
     "metadata": {},
     "output_type": "execute_result"
    }
   ],
   "source": [
    "y[5]"
   ]
  },
  {
   "cell_type": "code",
   "execution_count": 36,
   "metadata": {},
   "outputs": [],
   "source": [
    "y = y.astype(np.uint8)"
   ]
  },
  {
   "cell_type": "code",
   "execution_count": 37,
   "metadata": {},
   "outputs": [
    {
     "data": {
      "text/plain": [
       "0"
      ]
     },
     "execution_count": 37,
     "metadata": {},
     "output_type": "execute_result"
    }
   ],
   "source": [
    "X.isnull().sum().sum() "
   ]
  },
  {
   "cell_type": "code",
   "execution_count": 38,
   "metadata": {},
   "outputs": [],
   "source": [
    "X_train, X_test, y_train, y_test = X[:60000], X[60000:], y[:60000], y[60000:]"
   ]
  },
  {
   "cell_type": "code",
   "execution_count": 56,
   "metadata": {},
   "outputs": [
    {
     "data": {
      "text/plain": [
       "(60000, 784)"
      ]
     },
     "execution_count": 56,
     "metadata": {},
     "output_type": "execute_result"
    }
   ],
   "source": [
    "X_train.shape"
   ]
  },
  {
   "cell_type": "code",
   "execution_count": 52,
   "metadata": {},
   "outputs": [],
   "source": [
    "# Select a digit from the dataset\n",
    "some_digit = mnist.images[3]"
   ]
  },
  {
   "cell_type": "code",
   "execution_count": 65,
   "metadata": {},
   "outputs": [
    {
     "data": {
      "image/png": "[encoded data removed]",
      "text/plain": [
       "<Figure size 432x288 with 5 Axes>"
      ]
     },
     "metadata": {
      "needs_background": "light"
     },
     "output_type": "display_data"
    }
   ],
   "source": [
    "def shift_image_right(some_digit, pixels):\n",
    "    shifted_image = shift(some_digit, (0, pixels))\n",
    "    return shifted_image\n",
    "\n",
    "def shift_image_left(some_digit, pixels):\n",
    "    shifted_image = shift(some_digit, (0, -pixels))\n",
    "    return shifted_image\n",
    "\n",
    "def shift_image_up(some_digit, pixels):\n",
    "    shifted_image = shift(some_digit, (-pixels, 0))\n",
    "    return shifted_image\n",
    "\n",
    "def shift_image_down(some_digit, pixels):\n",
    "    shifted_image = shift(some_digit, (pixels, 0))\n",
    "    return shifted_image\n",
    "\n",
    "\n",
    "# Select a digit from the dataset\n",
    "some_digit = mnist.images[3]\n",
    "\n",
    "# Specify the number of pixels to shift\n",
    "pixels_to_shift = 1\n",
    "\n",
    "shifted_up_image = shift_image_up(some_digit, pixels_to_shift)\n",
    "shifted_down_image = shift_image_down(some_digit, pixels_to_shift)\n",
    "shifted_right_image = shift_image_right(some_digit, pixels_to_shift)\n",
    "shifted_left_image = shift_image_left(some_digit, pixels_to_shift)\n",
    "\n",
    "\n",
    "shift_functions = [shift_image_left, shift_image_right, shift_image_up, shift_image_down]\n",
    "shifted_titles = ['Shifted Left', 'Shifted Right', 'Shifted Up', 'Shifted Down']\n",
    "\n",
    "plt.subplot(1, len(shift_functions) + 1, 1)\n",
    "plt.imshow(some_digit, cmap='gray')\n",
    "plt.axis('off')\n",
    "plt.title('Original Image')\n",
    "\n",
    "for i, shift_func in enumerate(shift_functions):\n",
    "    shifted_image = shift_func(some_digit, pixels_to_shift)\n",
    "\n",
    "for i, shift_func in enumerate(shift_functions):\n",
    "    shifted_image = shift_func(some_digit, pixels_to_shift)\n",
    "\n",
    "    plt.subplot(1, len(shift_functions) + 1, i + 2)\n",
    "    plt.imshow(shifted_image, cmap='gray')\n",
    "    plt.axis('off')\n",
    "    plt.title(shifted_titles[i])\n",
    "\n",
    "plt.tight_layout()\n",
    "plt.show()    "
   ]
  },
  {
   "cell_type": "code",
   "execution_count": 46,
   "metadata": {},
   "outputs": [],
   "source": [
    "expanded_X_train = []\n",
    "expanded_y_train = []\n"
   ]
  },
  {
   "cell_type": "code",
   "execution_count": 64,
   "metadata": {},
   "outputs": [
    {
     "ename": "RuntimeError",
     "evalue": "input and output rank must be > 0",
     "output_type": "error",
     "traceback": [
      "\u001b[1;31m---------------------------------------------------------------------------\u001b[0m",
      "\u001b[1;31mRuntimeError\u001b[0m                              Traceback (most recent call last)",
      "\u001b[1;32mc:\\Users\\DOE EDINAM ABLA\\Wk12 crisp dm cont\\Individual_project wk 12.ipnyb.ipynb Cell 17\u001b[0m in \u001b[0;36m<cell line: 1>\u001b[1;34m()\u001b[0m\n\u001b[0;32m      <a href='vscode-notebook-cell:/c%3A/Users/DOE%20EDINAM%20ABLA/Wk12%20crisp%20dm%20cont/Individual_project%20wk%2012.ipnyb.ipynb#X21sZmlsZQ%3D%3D?line=3'>4</a>\u001b[0m expanded_y_train\u001b[39m.\u001b[39mappend(label)\n\u001b[0;32m      <a href='vscode-notebook-cell:/c%3A/Users/DOE%20EDINAM%20ABLA/Wk12%20crisp%20dm%20cont/Individual_project%20wk%2012.ipnyb.ipynb#X21sZmlsZQ%3D%3D?line=5'>6</a>\u001b[0m \u001b[39m# Shift the image left\u001b[39;00m\n\u001b[1;32m----> <a href='vscode-notebook-cell:/c%3A/Users/DOE%20EDINAM%20ABLA/Wk12%20crisp%20dm%20cont/Individual_project%20wk%2012.ipnyb.ipynb#X21sZmlsZQ%3D%3D?line=6'>7</a>\u001b[0m shifted_left \u001b[39m=\u001b[39m shift_image_left(image, \u001b[39m0\u001b[39;49m)\n\u001b[0;32m      <a href='vscode-notebook-cell:/c%3A/Users/DOE%20EDINAM%20ABLA/Wk12%20crisp%20dm%20cont/Individual_project%20wk%2012.ipnyb.ipynb#X21sZmlsZQ%3D%3D?line=7'>8</a>\u001b[0m expanded_X_train\u001b[39m.\u001b[39mappend(shifted_left)\n\u001b[0;32m      <a href='vscode-notebook-cell:/c%3A/Users/DOE%20EDINAM%20ABLA/Wk12%20crisp%20dm%20cont/Individual_project%20wk%2012.ipnyb.ipynb#X21sZmlsZQ%3D%3D?line=8'>9</a>\u001b[0m expanded_y_train\u001b[39m.\u001b[39mappend(label)\n",
      "\u001b[1;32mc:\\Users\\DOE EDINAM ABLA\\Wk12 crisp dm cont\\Individual_project wk 12.ipnyb.ipynb Cell 17\u001b[0m in \u001b[0;36mshift_image_left\u001b[1;34m(some_digit, pixels)\u001b[0m\n\u001b[0;32m      <a href='vscode-notebook-cell:/c%3A/Users/DOE%20EDINAM%20ABLA/Wk12%20crisp%20dm%20cont/Individual_project%20wk%2012.ipnyb.ipynb#X21sZmlsZQ%3D%3D?line=4'>5</a>\u001b[0m \u001b[39mdef\u001b[39;00m \u001b[39mshift_image_left\u001b[39m(some_digit, pixels):\n\u001b[1;32m----> <a href='vscode-notebook-cell:/c%3A/Users/DOE%20EDINAM%20ABLA/Wk12%20crisp%20dm%20cont/Individual_project%20wk%2012.ipnyb.ipynb#X21sZmlsZQ%3D%3D?line=5'>6</a>\u001b[0m     shifted_image \u001b[39m=\u001b[39m shift(some_digit, (\u001b[39m0\u001b[39;49m, \u001b[39m-\u001b[39;49mpixels))\n\u001b[0;32m      <a href='vscode-notebook-cell:/c%3A/Users/DOE%20EDINAM%20ABLA/Wk12%20crisp%20dm%20cont/Individual_project%20wk%2012.ipnyb.ipynb#X21sZmlsZQ%3D%3D?line=6'>7</a>\u001b[0m     \u001b[39mreturn\u001b[39;00m shifted_image\n",
      "File \u001b[1;32m~\\AppData\\Roaming\\Python\\Python310\\site-packages\\scipy\\ndimage\\_interpolation.py:659\u001b[0m, in \u001b[0;36mshift\u001b[1;34m(input, shift, output, order, mode, cval, prefilter)\u001b[0m\n\u001b[0;32m    657\u001b[0m \u001b[39minput\u001b[39m \u001b[39m=\u001b[39m numpy\u001b[39m.\u001b[39masarray(\u001b[39minput\u001b[39m)\n\u001b[0;32m    658\u001b[0m \u001b[39mif\u001b[39;00m \u001b[39minput\u001b[39m\u001b[39m.\u001b[39mndim \u001b[39m<\u001b[39m \u001b[39m1\u001b[39m:\n\u001b[1;32m--> 659\u001b[0m     \u001b[39mraise\u001b[39;00m \u001b[39mRuntimeError\u001b[39;00m(\u001b[39m'\u001b[39m\u001b[39minput and output rank must be > 0\u001b[39m\u001b[39m'\u001b[39m)\n\u001b[0;32m    660\u001b[0m complex_output \u001b[39m=\u001b[39m numpy\u001b[39m.\u001b[39miscomplexobj(\u001b[39minput\u001b[39m)\n\u001b[0;32m    661\u001b[0m output \u001b[39m=\u001b[39m _ni_support\u001b[39m.\u001b[39m_get_output(output, \u001b[39minput\u001b[39m,\n\u001b[0;32m    662\u001b[0m                                  complex_output\u001b[39m=\u001b[39mcomplex_output)\n",
      "\u001b[1;31mRuntimeError\u001b[0m: input and output rank must be > 0"
     ]
    }
   ],
   "source": [
    "\n",
    "\n",
    "for image, label in zip(X_train, y_train):\n",
    "    # Add the original image and label to the expanded training set\n",
    "    expanded_X_train.append(image)\n",
    "    expanded_y_train.append(label)\n",
    "\n",
    "    # Shift the image left\n",
    "    shifted_left = shift_image_left(image, 1)\n",
    "    expanded_X_train.append(shifted_left)\n",
    "    expanded_y_train.append(label)\n",
    "\n",
    "    # Shift the image right\n",
    "    shifted_right = shift_image_right(image, 1)\n",
    "    expanded_X_train.append(shifted_right)\n",
    "    expanded_y_train.append(label)\n",
    "\n",
    "    # Shift the image up\n",
    "    shifted_up = shift_image_up(image, 1)\n",
    "    expanded_X_train.append(shifted_up)\n",
    "    expanded_y_train.append(label)\n",
    "\n",
    "    # Shift the image down\n",
    "    shifted_down = shift_image_down(image, 1)\n",
    "    expanded_X_train.append(shifted_down)\n",
    "    expanded_y_train.append(label)\n",
    "\n",
    "\n",
    "\n"
   ]
  },
  {
   "cell_type": "code",
   "execution_count": 58,
   "metadata": {},
   "outputs": [],
   "source": [
    "expanded_X_train = np.array(expanded_X_train)\n",
    "expanded_y_train = np.array(expanded_y_train)\n"
   ]
  },
  {
   "cell_type": "code",
   "execution_count": 59,
   "metadata": {},
   "outputs": [
    {
     "name": "stdout",
     "output_type": "stream",
     "text": [
      "Expanded training set shape: (0,)\n"
     ]
    }
   ],
   "source": [
    "print(\"Expanded training set shape:\", expanded_X_train.shape)\n"
   ]
  },
  {
   "cell_type": "code",
   "execution_count": null,
   "metadata": {},
   "outputs": [],
   "source": []
  }
 ],
 "metadata": {
  "kernelspec": {
   "display_name": "base",
   "language": "python",
   "name": "python3"
  },
  "language_info": {
   "codemirror_mode": {
    "name": "ipython",
    "version": 3
   },
   "file_extension": ".py",
   "mimetype": "text/x-python",
   "name": "python",
   "nbconvert_exporter": "python",
   "pygments_lexer": "ipython3",
   "version": "3.10.9"
  },
  "orig_nbformat": 4
 },
 "nbformat": 4,
 "nbformat_minor": 2
}
